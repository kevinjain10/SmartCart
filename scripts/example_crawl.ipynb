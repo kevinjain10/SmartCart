{
 "cells": [
  {
   "cell_type": "code",
   "execution_count": 1,
   "metadata": {},
   "outputs": [],
   "source": [
    "from bs4 import BeautifulSoup\n",
    "import requests\n",
    "import re\n",
    "from time import sleep\n",
    "from selenium import webdriver\n",
    "import lxml #html.parser (alternative)"
   ]
  },
  {
   "cell_type": "code",
   "execution_count": 2,
   "metadata": {},
   "outputs": [],
   "source": [
    "headers = {'User-Agent': 'Mozilla/5.0 (Windows NT 6.3; Win64; x64) AppleWebKit/537.36 (KHTML, like Gecko) Chrome/54.0.2840.71 Safari/537.36'}"
   ]
  },
  {
   "cell_type": "code",
   "execution_count": 3,
   "metadata": {},
   "outputs": [
    {
     "name": "stdout",
     "output_type": "stream",
     "text": [
      "product_title:  Pringles Wavy Classic Salted Potatoe Crisps 4.5 oz\n",
      "product_price:  $1.44\n",
      "product_link:  https://www.walmart.com/ip/Pringles-Wavy-Classic-Salted-Potatoe-Crisps-4-5-oz/667274741\n",
      "product_image:  https://i5.walmartimages.com/asr/64add341-1b7c-4792-9a5d-a03d796d7e03_1.13b6512f5b8dce24bfbb219c021c283c.jpeg?odnWidth=200&odnHeight=200&odnBg=ffffff\n"
     ]
    }
   ],
   "source": [
    "#WALMART FINAL\n",
    "\n",
    "page = requests.get(\"https://www.walmart.com/search/?page=1&query=pringles&sort=price_low\", headers=headers)\n",
    "soup = BeautifulSoup(page.content, 'lxml')\n",
    "first_product = soup.find('li', class_='Grid-col u-size-6-12 u-size-1-4-m u-size-1-5-xl search-gridview-first-col-item search-gridview-first-grid-row-item')\n",
    "price = first_product.find(class_=\"price-group\").text\n",
    "var = first_product.find('div', class_='search-result-product-title gridview')\n",
    "wal_img = first_product.find('img')['src']\n",
    "a = var.find('a', class_='product-title-link line-clamp line-clamp-2')\n",
    "link = \"https://www.walmart.com\" + a['href']\n",
    "reg = re.findall(r\"title=\\\"(.*?)\\\"\",str(a))[0]\n",
    "print(\"product_title: \",reg)\n",
    "print(\"product_price: \",price)\n",
    "print(\"product_link: \",link)\n",
    "print(\"product_image: \",wal_img)"
   ]
  },
  {
   "cell_type": "code",
   "execution_count": 4,
   "metadata": {},
   "outputs": [
    {
     "name": "stdout",
     "output_type": "stream",
     "text": [
      "product_title:  Fat Free Evaporated Milk - 12oz - Market Pantry™\n",
      "product_price:  $0.99\n",
      "product_link:  https://www.target.com//p/fat-free-evaporated-milk-12oz-market-pantry-153/-/A-14827767\n",
      "product_image:  https://target.scene7.com/is/image/Target/GUEST_404bf0ba-2cf2-4acf-969a-a047a64fff97?wid=325&hei=325&qlt=80&fmt=webp\n"
     ]
    }
   ],
   "source": [
    "#TARGET FINAL (JAVASCRIPT - TAKES TIME (SELENIUM))\n",
    "\n",
    "url=\"https://www.target.com/s?searchTerm=milk&sortBy=PriceLow&Nao=0\"\n",
    "target_driver=webdriver.Chrome(executable_path='E:/Data/MCS/Academics/4Q/Capstone/chromedriver.exe')\n",
    "target_driver.get(url)\n",
    "sleep(1)\n",
    "innerHTML=target_driver.page_source\n",
    "root=BeautifulSoup(innerHTML,\"lxml\")\n",
    "ans=root.find_all('span', class_='h-text-bs')[4]\n",
    "product=root.find('div', class_='flex-grow-one full-width')\n",
    "tar_pic=root.find('div', class_='Images__ImageContainer-sc-1gcxa3z-2 crxLuS')\n",
    "pic_source=tar_pic.find('picture')\n",
    "tar_img=pic_source.find('source')['srcset']\n",
    "product_title=product.find('a')\n",
    "target_link=\"https://www.target.com/\"+product_title['href']\n",
    "print(\"product_title: \", product_title.text)\n",
    "print(\"product_price: \", ans.text)\n",
    "print(\"product_link: \", target_link)\n",
    "print(\"product_image: \", tar_img)\n",
    "target_driver.quit()"
   ]
  },
  {
   "cell_type": "code",
   "execution_count": 5,
   "metadata": {},
   "outputs": [
    {
     "name": "stdout",
     "output_type": "stream",
     "text": [
      "product_name:  Organic Valley, Organic Whole Milk Single-serve Milk Box, 6.75 oz\n",
      "product_price:  $1.49\n",
      "product_link:  https://www.amazon.com/Organic-Valley-Whole-Milk-Single-serve/dp/B01AZOSE6W/ref=sr_1_1?fpw=fresh&keywords=whole+milk&qid=1574143349&sr=8-1\n",
      "product_image:  https://m.media-amazon.com/images/I/61Qq3rknQFL._AC_UL320_ML3_.jpg\n"
     ]
    }
   ],
   "source": [
    "#AMAZON FINAL\n",
    "\n",
    "amz_headers = {\"User-Agent\":\"Mozilla/5.0 (Windows NT 10.0; Win64;x64; rv:66.0) Gecko/20100101 Firefox/66.0\", \"Accept-Encoding\":\"gzip, deflate\",\"Accept\":\"text/html,application/xhtml+xml,application/xml;q=0.9,*/*;q=0.8\", \"DNT\":\"1\",\"Connection\":\"close\", \"Upgrade-Insecure-Requests\":\"1\"}\n",
    "amz_page = requests.get(\"https://www.amazon.com/s?k=whole+milk&s=price-asc-rank&ref=sr_st_price-asc-rank\", headers=amz_headers)\n",
    "amz_soup = BeautifulSoup(amz_page.content, 'lxml')\n",
    "product_amz = amz_soup.find('span',class_='a-price')\n",
    "price = product_amz.find('span',class_='a-offscreen')\n",
    "name = amz_soup.find('span',class_='a-size-base-plus a-color-base a-text-normal')\n",
    "amz_img = amz_soup.find('img', class_='s-image')['src']\n",
    "link_amz = \"https://www.amazon.com\" + amz_soup.find('a', class_='a-link-normal a-text-normal')['href']\n",
    "print('product_name: ',name.text)\n",
    "print('product_price: ',price.text)\n",
    "print('product_link: ',link_amz)\n",
    "print('product_image: ',amz_img)"
   ]
  },
  {
   "cell_type": "code",
   "execution_count": 6,
   "metadata": {},
   "outputs": [],
   "source": [
    "#RITE-AID FINAL\n",
    "#NOT WORKING (WEBSITE DOM CHANGED)\n",
    "\n",
    "page_rite = requests.get(\"https://www.riteaid.com/shop/catalogsearch/result/index/?dir=asc&order=price&q=whole+milk\", headers=headers)\n",
    "soup_rite = BeautifulSoup(page_rite.content, 'lxml')\n",
    "items = soup_rite.find_all('li', class_='item')\n",
    "for item in items:\n",
    "    price_span = item.find('span', class_='price')\n",
    "    if price_span is not None:\n",
    "        price_aid = price_span.text\n",
    "        product_aid = item.find('h2', class_='product-name')\n",
    "        name_aid = product_aid.find('a')['title']\n",
    "        link_aid = product_aid.find('a')['href']\n",
    "        print(\"product_name: \", name_aid)\n",
    "        print(\"product_price: \", price_aid)\n",
    "        print(\"product_link: \", link_aid)\n",
    "        break"
   ]
  },
  {
   "cell_type": "code",
   "execution_count": 7,
   "metadata": {},
   "outputs": [
    {
     "name": "stdout",
     "output_type": "stream",
     "text": [
      "product_title:  Prince Of Peace Ginseng Root Tea, 80 ct\n",
      "product_price:  $32.99\n",
      "product_link:  https://www.costco.com/prince-of-peace-ginseng-root-tea%2c-80-ct.product.100439116.html\n",
      "product_count:  -1\n",
      "product_image:  https://images.costco-static.com/ImageDelivery/imageService?profileId=12026540&imageId=1202765-847__1&recipeName=350\n"
     ]
    }
   ],
   "source": [
    "#COSTCO FINAL - (SELENIUM BECAUSE REQUESTS DOES NOT WORK)\n",
    "#costco_driver=webdriver.Firefox(executable_path=r\"E:\\Data\\geckodriver.exe\") - GECKODRIVER (FIREFOX): SAME RESULTS\n",
    "#CAN COMPARE RUNNING TIMES OF CHROME AND FIREFOX LATER\n",
    "\n",
    "costco_url=\"https://www.costco.com/CatalogSearch?sortBy=PriceMin%7C0&keyword=pringles&dept=All\"\n",
    "costco_driver=webdriver.Chrome(executable_path='E:/Data/MCS/Academics/4Q/Capstone/chromedriver.exe')\n",
    "costco_driver.get(costco_url)\n",
    "innerHTML_costco=costco_driver.page_source\n",
    "soup_costco=BeautifulSoup(innerHTML_costco,\"lxml\")\n",
    "grid = soup_costco.find_all('div', class_='col-xs-6 col-md-6 col-lg-4 col-xl-3 product')\n",
    "for item_costco in grid:\n",
    "    price_costco = item_costco.find('div',class_=\"price\")\n",
    "    if(price_costco is not None):\n",
    "        costco_img = item_costco.find('img', class_='img-responsive')['src']\n",
    "        description = item_costco.find('p', class_='description')\n",
    "        name_costco = description.find('a').text\n",
    "        link_costco = description.find('a')['href']\n",
    "        count_term = re.findall(r\"\\d+-count\",str(name_costco))\n",
    "        length_count = len(count_term)\n",
    "        if length_count > 0:\n",
    "            count_costco = re.findall(r\"\\d+\",str(count_term[0]))[0]\n",
    "        else:\n",
    "            count_costco = -1\n",
    "        print(\"product_title: \",name_costco)\n",
    "        print(\"product_price: \",price_costco.text)\n",
    "        print(\"product_link: \", link_costco)\n",
    "        print(\"product_count: \",count_costco)\n",
    "        print(\"product_image: \",costco_img)\n",
    "        break\n",
    "costco_driver.quit()"
   ]
  }
 ],
 "metadata": {
  "kernelspec": {
   "display_name": "Python 3",
   "language": "python",
   "name": "python3"
  },
  "language_info": {
   "codemirror_mode": {
    "name": "ipython",
    "version": 3
   },
   "file_extension": ".py",
   "mimetype": "text/x-python",
   "name": "python",
   "nbconvert_exporter": "python",
   "pygments_lexer": "ipython3",
   "version": "3.6.5"
  }
 },
 "nbformat": 4,
 "nbformat_minor": 2
}
