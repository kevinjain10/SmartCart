{
 "cells": [
  {
   "cell_type": "code",
   "execution_count": 1,
   "metadata": {},
   "outputs": [],
   "source": [
    "from bs4 import BeautifulSoup\n",
    "import requests\n",
    "import re\n",
    "from time import sleep\n",
    "from selenium import webdriver\n",
    "import lxml #html.parser (alternative)\n",
    "import json"
   ]
  },
  {
   "cell_type": "code",
   "execution_count": 2,
   "metadata": {},
   "outputs": [],
   "source": [
    "headers = {\"User-Agent\":\"Mozilla/5.0 (Windows NT 10.0; Win64;x64; rv:66.0) Gecko/20100101 Firefox/66.0\", \"Accept-Encoding\":\"gzip, deflate\",\"Accept\":\"text/html,application/xhtml+xml,application/xml;q=0.9,*/*;q=0.8\", \"DNT\":\"1\",\"Connection\":\"close\", \"Upgrade-Insecure-Requests\":\"1\"}"
   ]
  },
  {
   "cell_type": "code",
   "execution_count": 3,
   "metadata": {},
   "outputs": [
    {
     "name": "stdout",
     "output_type": "stream",
     "text": [
      "product_title:  Pringles Wavy Applewood Smoked Cheddar Crisps 4.8 oz\n",
      "product_price:  $1.44\n",
      "product_link:  https://www.walmart.com/ip/Pringles-Wavy-Applewood-Smoked-Cheddar-Crisps-4-8-oz/239146071\n",
      "product_image:  https://i5.walmartimages.com/asr/1b0ade02-0e4a-4d30-af26-dc520f9823b2_1.228ecb1178d9bf5d6f801f48f86de76f.jpeg?odnWidth=200&odnHeight=200&odnBg=ffffff\n"
     ]
    }
   ],
   "source": [
    "#WALMART ORIGINAL\n",
    "\n",
    "page = requests.get(\"https://www.walmart.com/search/?page=1&query=pringles&soft_sort=true&sort=price_low\", headers=headers)\n",
    "soup = BeautifulSoup(page.content, 'html.parser')\n",
    "first_product = soup.find('li', class_='Grid-col u-size-6-12 u-size-1-4-m u-size-1-5-xl search-gridview-first-col-item search-gridview-first-grid-row-item')\n",
    "price = first_product.find(class_=\"price-group\").text\n",
    "var = first_product.find('div', class_='search-result-product-title gridview')\n",
    "wal_img = first_product.find('img')['src']\n",
    "a = var.find('a', class_='product-title-link line-clamp line-clamp-2')\n",
    "link = \"https://www.walmart.com\" + a['href']\n",
    "reg = re.findall(r\"title=\\\"(.*?)\\\"\",str(a))[0]\n",
    "print(\"product_title: \",reg)\n",
    "print(\"product_price: \",price)\n",
    "print(\"product_link: \",link)\n",
    "print(\"product_image: \",wal_img)"
   ]
  },
  {
   "cell_type": "code",
   "execution_count": 4,
   "metadata": {},
   "outputs": [
    {
     "name": "stdout",
     "output_type": "stream",
     "text": [
      "product_title:  Pringles Wavy Applewood Smoked Cheddar Crisps 4.8 oz\n",
      "product_price:  $1.44\n",
      "product_link:  https://www.walmart.com/ip/Pringles-Wavy-Applewood-Smoked-Cheddar-Crisps-4-8-oz/239146071\n",
      "product_image:  https://i5.walmartimages.com/asr/1b0ade02-0e4a-4d30-af26-dc520f9823b2_1.228ecb1178d9bf5d6f801f48f86de76f.jpeg?odnWidth=200&odnHeight=200&odnBg=ffffff\n"
     ]
    }
   ],
   "source": [
    "#WALMART FINAL\n",
    "\n",
    "wal_url = \"https://www.walmart.com/search/?page=1&query=pringles&soft_sort=true&sort=price_low\"\n",
    "page = requests.get(url=wal_url, headers=headers)\n",
    "soup = BeautifulSoup(page.content, 'html.parser')\n",
    "grid = soup.find('ul', class_='search-result-gridview-items soft-sort four-items')\n",
    "products = grid.find_all('li')\n",
    "page_flag = 0\n",
    "for product in products:\n",
    "    price = product.find(class_=\"price-group\")\n",
    "    if price is not None:\n",
    "        page_flag = 1\n",
    "        wal_price = price.text\n",
    "        var = product.find('div', class_='search-result-product-title gridview')\n",
    "        wal_img = product.find('img')['src']\n",
    "        a = var.find('a', class_='product-title-link line-clamp line-clamp-2')\n",
    "        link = \"https://www.walmart.com\" + a['href']\n",
    "        reg = re.findall(r\"title=\\\"(.*?)\\\"\",str(a))[0]\n",
    "        print(\"product_title: \",reg)\n",
    "        print(\"product_price: \",wal_price)\n",
    "        print(\"product_link: \",link)\n",
    "        print(\"product_image: \",wal_img)\n",
    "        break\n",
    "if page_flag == 0:\n",
    "    walmart_second_page('eggs', 2)"
   ]
  },
  {
   "cell_type": "code",
   "execution_count": 5,
   "metadata": {},
   "outputs": [
    {
     "name": "stdout",
     "output_type": "stream",
     "text": [
      "product_title:  Fat Free Evaporated Milk - 12oz - Market Pantry™\n",
      "product_price:  $0.99\n",
      "product_link:  https://www.target.com//p/fat-free-evaporated-milk-12oz-market-pantry-153/-/A-14827767\n",
      "product_image:  https://target.scene7.com/is/image/Target/GUEST_404bf0ba-2cf2-4acf-969a-a047a64fff97?wid=325&hei=325&qlt=80&fmt=webp\n"
     ]
    }
   ],
   "source": [
    "#TARGET FINAL (JAVASCRIPT - TAKES TIME (SELENIUM))\n",
    "\n",
    "url=\"https://www.target.com/s?searchTerm=milk&sortBy=PriceLow&Nao=0\"\n",
    "target_driver=webdriver.Chrome(executable_path='E:/Data/MCS/Academics/4Q/Capstone/chromedriver.exe')\n",
    "target_driver.get(url)\n",
    "sleep(5)\n",
    "innerHTML=target_driver.page_source\n",
    "root=BeautifulSoup(innerHTML,\"lxml\")\n",
    "ans=root.find_all('span', class_='h-text-bs')[4]\n",
    "product=root.find('div', class_='flex-grow-one full-width')\n",
    "tar_pic=root.find('div', class_='Images__ImageContainer-sc-1gcxa3z-2 crxLuS')\n",
    "pic_source=tar_pic.find('picture')\n",
    "tar_img=pic_source.find('source')['srcset']\n",
    "product_title=product.find('a')\n",
    "target_link=\"https://www.target.com/\"+product_title['href']\n",
    "print(\"product_title: \", product_title.text)\n",
    "print(\"product_price: \", ans.text)\n",
    "print(\"product_link: \", target_link)\n",
    "print(\"product_image: \", tar_img)\n",
    "target_driver.quit()"
   ]
  },
  {
   "cell_type": "code",
   "execution_count": 6,
   "metadata": {},
   "outputs": [
    {
     "name": "stdout",
     "output_type": "stream",
     "text": [
      "product_name:  Organic Valley, Organic Whole Milk Single-serve Milk Box, 6.75 oz\n",
      "product_price:  $1.49\n",
      "product_link:  https://www.amazon.com/Organic-Valley-Whole-Milk-Single-serve/dp/B01AZOSE6W/ref=sr_1_1?almBrandId=VUZHIFdob2xlIEZvb2Rz&fpw=alm&keywords=whole+milk&qid=1574653059&sr=8-1\n",
      "product_image:  https://m.media-amazon.com/images/I/61Qq3rknQFL._AC_UL320_ML3_.jpg\n"
     ]
    }
   ],
   "source": [
    "#AMAZON FINAL\n",
    "\n",
    "amz_headers = {\"User-Agent\":\"Mozilla/5.0 (Windows NT 10.0; Win64;x64; rv:66.0) Gecko/20100101 Firefox/66.0\", \"Accept-Encoding\":\"gzip, deflate\",\"Accept\":\"text/html,application/xhtml+xml,application/xml;q=0.9,*/*;q=0.8\", \"DNT\":\"1\",\"Connection\":\"close\", \"Upgrade-Insecure-Requests\":\"1\"}\n",
    "amz_page = requests.get(\"https://www.amazon.com/s?k=whole+milk&s=price-asc-rank&ref=sr_st_price-asc-rank\", headers=amz_headers)\n",
    "amz_soup = BeautifulSoup(amz_page.content, 'lxml')\n",
    "product_amz = amz_soup.find('span',class_='a-price')\n",
    "price = product_amz.find('span',class_='a-offscreen')\n",
    "name = amz_soup.find('span',class_='a-size-base-plus a-color-base a-text-normal')\n",
    "amz_img = amz_soup.find('img', class_='s-image')['src']\n",
    "link_amz = \"https://www.amazon.com\" + amz_soup.find('a', class_='a-link-normal a-text-normal')['href']\n",
    "print('product_name: ',name.text)\n",
    "print('product_price: ',price.text)\n",
    "print('product_link: ',link_amz)\n",
    "print('product_image: ',amz_img)"
   ]
  },
  {
   "cell_type": "code",
   "execution_count": 7,
   "metadata": {},
   "outputs": [],
   "source": [
    "#RITE-AID FINAL\n",
    "#NOT WORKING (WEBSITE DOM CHANGED)\n",
    "\n",
    "#page_rite = requests.get(\"https://www.riteaid.com/shop/catalogsearch/result/index/?dir=asc&order=price&q=whole+milk\", headers=headers)\n",
    "#soup_rite = BeautifulSoup(page_rite.content, 'lxml')\n",
    "#items = soup_rite.find_all('li', class_='item')\n",
    "#for item in items:\n",
    "#    price_span = item.find('span', class_='price')\n",
    "#    if price_span is not None:\n",
    "#        price_aid = price_span.text\n",
    "#        product_aid = item.find('h2', class_='product-name')\n",
    "#        name_aid = product_aid.find('a')['title']\n",
    "#        link_aid = product_aid.find('a')['href']\n",
    "#        print(\"product_name: \", name_aid)\n",
    "#        print(\"product_price: \", price_aid)\n",
    "#        print(\"product_link: \", link_aid)\n",
    "#        break"
   ]
  },
  {
   "cell_type": "code",
   "execution_count": 8,
   "metadata": {},
   "outputs": [
    {
     "name": "stdout",
     "output_type": "stream",
     "text": [
      "product_title:  Prince Of Peace Ginseng Root Tea, 80 ct\n",
      "product_price:  $32.99\n",
      "product_link:  https://www.costco.com/prince-of-peace-ginseng-root-tea%2c-80-ct.product.100439116.html\n",
      "product_count:  -1\n",
      "product_image:  https://images.costco-static.com/ImageDelivery/imageService?profileId=12026540&imageId=1202765-847__1&recipeName=350\n"
     ]
    }
   ],
   "source": [
    "#COSTCO FINAL - (SELENIUM BECAUSE REQUESTS DOES NOT WORK)\n",
    "#costco_driver=webdriver.Firefox(executable_path=r\"E:\\Data\\geckodriver.exe\") - GECKODRIVER (FIREFOX): SAME RESULTS\n",
    "#CAN COMPARE RUNNING TIMES OF CHROME AND FIREFOX LATER\n",
    "\n",
    "costco_url='https://www.costco.com/CatalogSearch?sortBy=PriceMin%7C0&keyword=pringles&dept=All'\n",
    "costco_driver=webdriver.Chrome(executable_path='E:/Data/MCS/Academics/4Q/Capstone/chromedriver.exe')\n",
    "costco_driver.get(costco_url)\n",
    "innerHTML_costco=costco_driver.page_source\n",
    "soup_costco=BeautifulSoup(innerHTML_costco,\"lxml\")\n",
    "grid = soup_costco.find_all('div', class_='col-xs-6 col-md-6 col-lg-4 col-xl-3 product')\n",
    "for item_costco in grid:\n",
    "    price_costco = item_costco.find('div',class_=\"price\")\n",
    "    if(price_costco is not None):\n",
    "        costco_img = item_costco.find('img', class_='img-responsive')['src']\n",
    "        description = item_costco.find('p', class_='description')\n",
    "        name_costco = description.find('a').text\n",
    "        link_costco = description.find('a')['href']\n",
    "        count_term = re.findall(r\"\\d+-count\",str(name_costco))\n",
    "        length_count = len(count_term)\n",
    "        if length_count > 0:\n",
    "            count_costco = re.findall(r\"\\d+\",str(count_term[0]))[0]\n",
    "        else:\n",
    "            count_costco = -1\n",
    "        print(\"product_title: \",name_costco)\n",
    "        print(\"product_price: \",price_costco.text)\n",
    "        print(\"product_link: \", link_costco)\n",
    "        print(\"product_count: \",count_costco)\n",
    "        print(\"product_image: \",costco_img)\n",
    "        break\n",
    "costco_driver.quit()"
   ]
  },
  {
   "cell_type": "code",
   "execution_count": 9,
   "metadata": {},
   "outputs": [
    {
     "name": "stdout",
     "output_type": "stream",
     "text": [
      "product_title:  Skittles Original Candy Single Pack\n",
      "product_price:  0.88\n",
      "product_link:  https://www.heb.com/product-detail/skittles-original-candy-single-pack/121409\n",
      "product_image:  https://images.heb.com/is/image/HEBGrocery/prd-small/skittles-original-candy-single-pack-000121409.jpg\n"
     ]
    }
   ],
   "source": [
    "#H-E-B FINAL\n",
    "\n",
    "heb_page = requests.get(\"https://www.heb.com/search/results?Ns=product.salePrice|0&q=skittles\", headers=headers)\n",
    "heb_soup = BeautifulSoup(heb_page.content, 'lxml')\n",
    "heb_product = heb_soup.find('li', class_='responsivegriditem product-grid-large-fifth product-grid-small-6')\n",
    "heb_script = heb_product.find('script').text\n",
    "heb_json = json.loads(heb_script)\n",
    "heb_price = heb_json['price']\n",
    "heb_title = heb_json['name']\n",
    "heb_anchor = heb_product.find('a')['href']\n",
    "heb_link = 'https://www.heb.com' + heb_anchor\n",
    "heb_image = heb_product.find('img')['src']\n",
    "print(\"product_title: \",heb_title)\n",
    "print(\"product_price: \",heb_price)\n",
    "print(\"product_link: \",heb_link)\n",
    "print(\"product_image: \",heb_image)"
   ]
  },
  {
   "cell_type": "code",
   "execution_count": 10,
   "metadata": {},
   "outputs": [
    {
     "name": "stdout",
     "output_type": "stream",
     "text": [
      "product_title:  Nestle Nido Instant Dry Whole Milk Powder Fortificada\n",
      "product_price:  $4.97\n",
      "product_link:  https://www.ebay.com/itm/Nestle-Nido-Instant-Dry-Whole-Milk-Powder-Fortificada/233366713886?hash=item3655bd761e:g:yjQAAOSwKc5doM55\n",
      "product_image:  https://i.ebayimg.com/thumbs/images/g/yjQAAOSwKc5doM55/s-l225.jpg\n"
     ]
    }
   ],
   "source": [
    "#EBAY FINAL\n",
    "\n",
    "ebay_page = requests.get(\"https://www.ebay.com/sch/i.html?_from=R40&_nkw=whole+milk&_sop=15\", headers=headers)\n",
    "ebay_soup = BeautifulSoup(ebay_page.content, 'lxml')\n",
    "ebay_product = ebay_soup.find('div', class_='s-item__wrapper clearfix')\n",
    "ebay_anchor = ebay_product.find('a', class_='s-item__link')\n",
    "ebay_link = ebay_anchor['href']\n",
    "ebay_title = ebay_anchor.find('h3',class_='s-item__title').text\n",
    "ebay_image = ebay_product.find('img', class_='s-item__image-img')['src']\n",
    "ebay_money = ebay_product.find('span', class_='s-item__price').text\n",
    "ebay_price = ebay_money.split(' ')[0]\n",
    "print(\"product_title: \",ebay_title)\n",
    "print(\"product_price: \",ebay_price)\n",
    "print(\"product_link: \",ebay_link)\n",
    "print(\"product_image: \",ebay_image)"
   ]
  },
  {
   "cell_type": "code",
   "execution_count": 11,
   "metadata": {},
   "outputs": [],
   "source": [
    "#ALBERTSONS FINAL (HEURISTIC)\n",
    "#WEBSITE TOO SMART!\n",
    "\n",
    "#albertsons_url = \"https://shop.albertsons.com/search-results.html?q=whole+milk\"\n",
    "#albertsons_driver = webdriver.Chrome(executable_path='E:/Data/MCS/Academics/4Q/Capstone/chromedriver.exe')\n",
    "#albertsons_driver.get(albertsons_url)\n",
    "#sleep(10)\n",
    "#albertsons_innerHTML = albertsons_driver.page_source\n",
    "#albertsons_soup = BeautifulSoup(albertsons_innerHTML,\"lxml\")\n",
    "#albertsons_price = albertsons_soup.find_all('span', class_='product-price')\n",
    "#print(len(albertsons_price))"
   ]
  },
  {
   "cell_type": "code",
   "execution_count": 12,
   "metadata": {},
   "outputs": [
    {
     "name": "stdout",
     "output_type": "stream",
     "text": [
      "product_title:  Organic Sweet Potato, Apple + Spices Strips\n",
      "product_price:  $1.19\n",
      "product_link:  https://products.wholefoodsmarket.com/product/veggie-gos-organic-sweet-potato-apple-spices-strips-f62189\n",
      "product_image:  https://sage.blob.core.windows.net/media/5c0d3ca9da3b3d7687ec785e_upc-0853079005045-done-0-glamor-jpg-rzjlo8_thumbnail.jpg\n"
     ]
    }
   ],
   "source": [
    "#WHOLE FOODS FINAL\n",
    "\n",
    "wf_url = \"https://products.wholefoodsmarket.com/search?sort=price&store=10614&text=apples\"\n",
    "wf_driver = webdriver.Chrome(executable_path='E:/Data/MCS/Academics/4Q/Capstone/chromedriver.exe')\n",
    "wf_driver.get(wf_url)\n",
    "sleep(2)\n",
    "wf_innerHTML = wf_driver.page_source\n",
    "wf_soup = BeautifulSoup(wf_innerHTML,\"lxml\")\n",
    "wf_product = wf_soup.find('a', class_='ProductCard-Root--3g5WI')\n",
    "wf_link = \"https://products.wholefoodsmarket.com\" + wf_product['href']\n",
    "wf_price = wf_product.find('div', class_='ProductCard-Price--1uInW').text\n",
    "wf_title = wf_product.find('div', class_='ProductCard-Name--1o2Gg').text\n",
    "wf_picture = wf_product.find('div', class_='LazyImage-Image--1HP-y')['style']\n",
    "wf_image = re.findall(r'(?:(?:https?|ftp):\\/\\/)?[\\w/\\-?=%.]+\\.[\\w/\\-?=%.]+', str(wf_picture))[0]\n",
    "print(\"product_title: \",wf_title)\n",
    "print(\"product_price: \",wf_price)\n",
    "print(\"product_link: \",wf_link)\n",
    "print(\"product_image: \",wf_image)\n",
    "wf_driver.quit()"
   ]
  },
  {
   "cell_type": "code",
   "execution_count": 13,
   "metadata": {},
   "outputs": [
    {
     "name": "stdout",
     "output_type": "stream",
     "text": [
      "product_title:  Mozzarella String Cheese - 1oz - Good & Gather™\n",
      "product_price:  $0.45\n",
      "product_link:  https://www.target.com/p/mozzarella-string-cheese-1oz-good-gather-8482/-/A-54475906\n",
      "product_image:  https://target.scene7.com/is/image/Target/GUEST_b6df535d-9e93-4eb7-9b3a-1825cd535f37?wid=325&hei=325&qlt=80&fmt=webp\n"
     ]
    }
   ],
   "source": [
    "#TARGET EDGE CASE\n",
    "\n",
    "url=\"https://www.target.com/s?searchTerm=cheese&sortBy=PriceLow&Nao=0\"\n",
    "target_driver=webdriver.Chrome(executable_path='E:/Data/MCS/Academics/4Q/Capstone/chromedriver.exe')\n",
    "target_driver.get(url)\n",
    "sleep(5)\n",
    "innerHTML=target_driver.page_source\n",
    "root=BeautifulSoup(innerHTML,\"lxml\")\n",
    "grid=root.find_all('li', class_='h-padding-a-none h-display-flex Col-favj32-0 bkaXIn')\n",
    "for item in grid:\n",
    "    price_element=item.find(lambda tag: tag.name == 'span' and tag.get('class') == ['h-text-bs'])\n",
    "    if price_element is not None:\n",
    "        tar_price=price_element.text\n",
    "        tar_pic=item.find('div', class_='Images__ImageContainer-sc-1gcxa3z-2 crxLuS')\n",
    "        pic_source=tar_pic.find('picture')\n",
    "        tar_img=pic_source.find('source')['srcset']\n",
    "        product=item.find('div', class_='flex-grow-one full-width')\n",
    "        product_title=product.find('a')\n",
    "        target_link=\"https://www.target.com\"+product_title['href']\n",
    "        print(\"product_title: \", product_title.text)\n",
    "        print(\"product_price: \", tar_price)\n",
    "        print(\"product_link: \", target_link)\n",
    "        print(\"product_image: \", tar_img)\n",
    "        break\n",
    "target_driver.quit()"
   ]
  },
  {
   "cell_type": "code",
   "execution_count": 14,
   "metadata": {},
   "outputs": [],
   "source": [
    "#WALMART SECOND PAGE\n",
    "\n",
    "def walmart_second_page(item, page):\n",
    "    next_page = page + 1\n",
    "    wal_url = \"https://www.walmart.com/search/?page=\" + str(page) + \"&query=\" + item + \"&soft_sort=true&sort=price_low\"\n",
    "    page = requests.get(url=wal_url, headers=headers)\n",
    "    soup = BeautifulSoup(page.content, 'lxml')\n",
    "    grid = soup.find('ul', class_='search-result-gridview-items soft-sort four-items')\n",
    "    products = grid.find_all('li')\n",
    "    page_flag = 0\n",
    "    for product in products:\n",
    "        price = product.find(class_=\"price-group\")\n",
    "        if price is not None:\n",
    "            page_flag = 1\n",
    "            wal_price = price.text\n",
    "            var = product.find('div', class_='search-result-product-title gridview')\n",
    "            wal_img = product.find('img')['src']\n",
    "            a = var.find('a', class_='product-title-link line-clamp line-clamp-2')\n",
    "            link = \"https://www.walmart.com\" + a['href']\n",
    "            reg = re.findall(r\"title=\\\"(.*?)\\\"\",str(a))[0]\n",
    "            print(\"product_title: \",reg)\n",
    "            print(\"product_price: \",wal_price)\n",
    "            print(\"product_link: \",link)\n",
    "            print(\"product_image: \",wal_img)\n",
    "            break\n",
    "    if page_flag == 0:\n",
    "        walmart_second_page(item, next_page)"
   ]
  },
  {
   "cell_type": "code",
   "execution_count": 15,
   "metadata": {},
   "outputs": [
    {
     "name": "stdout",
     "output_type": "stream",
     "text": [
      "Natural Egg Carton 4/Pkg-6 Cavity $7.31 https://www.walmart.com/ip/Natural-Egg-Carton-4-Pkg-6-Cavity/715533205 https://i5.walmartimages.com/asr/a69d86b5-5ba6-46a1-9098-70e3ab999e3e_3.f9d9f4607d79bc2b743c335ccb99aca9.jpeg?odnWidth=200&odnHeight=200&odnBg=ffffff\n"
     ]
    }
   ],
   "source": [
    "#WALMART COMPOSITE\n",
    "\n",
    "def walmart_crawl(walmart_item):\n",
    "    page_count = 0\n",
    "    while True:\n",
    "        page_count = page_count + 1\n",
    "        title, price, link, image = walmart_rec(walmart_item, page_count)\n",
    "        if rec_invoke(title, price, link, image) == False:\n",
    "            break\n",
    "    return title, price, link, image\n",
    "\n",
    "def rec_invoke(w_t, w_p, w_l, w_i):\n",
    "    if w_t == '' and w_p == '' and w_l == '' and w_i == '':\n",
    "        return True\n",
    "    return False\n",
    "\n",
    "def walmart_rec(rec_item, rec_page):\n",
    "    next_page = rec_page + 1\n",
    "    walmart_headers = {\"User-Agent\":\"Mozilla/5.0 (Windows NT 10.0; Win64;x64; rv:66.0) Gecko/20100101 Firefox/66.0\", \"Accept-Encoding\":\"gzip, deflate\",\"Accept\":\"text/html,application/xhtml+xml,application/xml;q=0.9,*/*;q=0.8\", \"DNT\":\"1\",\"Connection\":\"close\", \"Upgrade-Insecure-Requests\":\"1\"}\n",
    "    walmart_url = 'https://www.walmart.com/search/?page=' + str(rec_page) + '&query=' + rec_item + '&soft_sort=true&sort=price_low'\n",
    "    walmart_page = requests.get(url=walmart_url, headers=walmart_headers)\n",
    "    walmart_soup = BeautifulSoup(walmart_page.content, 'lxml')\n",
    "    walmart_grid = walmart_soup.find('ul', class_='search-result-gridview-items soft-sort four-items')\n",
    "    walmart_products = walmart_grid.find_all('li')\n",
    "    walmart_price = ''\n",
    "    walmart_title = ''\n",
    "    walmart_link = ''\n",
    "    walmart_image = ''\n",
    "    for walmart_product in walmart_products:\n",
    "        walmart_element = walmart_product.find(class_=\"price-group\")\n",
    "        if walmart_element is not None:\n",
    "            walmart_price = walmart_element.text\n",
    "            walmart_image = walmart_product.find('img')['src']\n",
    "            walmart_description = walmart_product.find('div', class_='search-result-product-title gridview')\n",
    "            walmart_anchor = walmart_description.find('a', class_='product-title-link line-clamp line-clamp-2')\n",
    "            walmart_link = 'https://www.walmart.com' + walmart_anchor['href']\n",
    "            walmart_title = re.findall(r\"title=\\\"(.*?)\\\"\",str(walmart_anchor))[0]\n",
    "            break\n",
    "    return walmart_title, walmart_price, walmart_link, walmart_image\n",
    "\n",
    "t, p, l, i = walmart_crawl('eggs')\n",
    "print(t,p,l,i)"
   ]
  }
 ],
 "metadata": {
  "kernelspec": {
   "display_name": "Python 3",
   "language": "python",
   "name": "python3"
  },
  "language_info": {
   "codemirror_mode": {
    "name": "ipython",
    "version": 3
   },
   "file_extension": ".py",
   "mimetype": "text/x-python",
   "name": "python",
   "nbconvert_exporter": "python",
   "pygments_lexer": "ipython3",
   "version": "3.6.5"
  }
 },
 "nbformat": 4,
 "nbformat_minor": 2
}
